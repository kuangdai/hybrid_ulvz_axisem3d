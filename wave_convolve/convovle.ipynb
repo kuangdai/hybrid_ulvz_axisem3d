{
 "cells": [
  {
   "cell_type": "code",
   "id": "initial_id",
   "metadata": {
    "collapsed": true,
    "ExecuteTime": {
     "end_time": "2025-07-07T15:41:51.264311Z",
     "start_time": "2025-07-07T15:41:51.260661Z"
    }
   },
   "source": [
    "import matplotlib.pyplot as plt\n",
    "import numpy as np\n",
    "import torch\n",
    "import xarray as xr\n",
    "\n",
    "from convolve_load import load_rotation_matrices, load_elements, load_reciprocal, gather_nodes\n",
    "\n",
    "device = \"mps\""
   ],
   "outputs": [],
   "execution_count": 10
  },
  {
   "metadata": {},
   "cell_type": "markdown",
   "source": [
    "# 读入precompute的内容\n",
    "\n",
    "* 这个任务只做一次。这些Tensors留在device，反复使用。"
   ],
   "id": "6a02bd5b318fd649"
  },
  {
   "metadata": {
    "ExecuteTime": {
     "end_time": "2025-07-07T15:41:52.900258Z",
     "start_time": "2025-07-07T15:41:51.275893Z"
    }
   },
   "cell_type": "code",
   "source": [
    "rotations = load_rotation_matrices().to(device)\n",
    "\n",
    "solid_elements, solid_connectivity = load_elements(\"solid\", device=device)\n",
    "fluid_elements, fluid_connectivity = load_elements(\"fluid\", device=device)"
   ],
   "id": "864a420f74d15bd1",
   "outputs": [],
   "execution_count": 11
  },
  {
   "metadata": {},
   "cell_type": "markdown",
   "source": [
    "# 实际ULVZ波场\n",
    "\n",
    "* 下面的例子是从文件读取的。\n",
    "* 反演时，它们是FNO的输入和输出，不来自文件（否则无法backprop）。"
   ],
   "id": "e36d1b9575618a40"
  },
  {
   "metadata": {
    "ExecuteTime": {
     "end_time": "2025-07-07T15:41:54.720235Z",
     "start_time": "2025-07-07T15:41:54.671661Z"
    }
   },
   "cell_type": "code",
   "source": [
    "incident_solid = np.load(\"../wave_extrapolation/outputs/incident_ml_ready_solid.npz\")[\"arr_0\"]\n",
    "incident_fluid = np.load(\"../wave_extrapolation/outputs/incident_ml_ready_fluid.npz\")[\"arr_0\"]\n",
    "outgoing_solid = np.load(\"../wave_extrapolation/outputs/outgoing_ml_ready_solid.npz\")[\"arr_0\"]\n",
    "outgoing_fluid = np.load(\"../wave_extrapolation/outputs/outgoing_ml_ready_fluid.npz\")[\"arr_0\"]\n",
    "\n",
    "# 它们的差值，是做wave extrapolate的源\n",
    "ulvz_u_solid = outgoing_solid - incident_solid\n",
    "ulvz_u_fluid = outgoing_fluid - incident_fluid\n",
    "ulvz_u_solid = np.transpose(ulvz_u_solid, (0, 1, 3, 4, 2))  # Depth放到最后\n",
    "ulvz_u_fluid = np.transpose(ulvz_u_fluid, (0, 1, 3, 4, 2))\n",
    "ulvz_u_solid = torch.from_numpy(ulvz_u_solid).float().to(device)\n",
    "ulvz_u_fluid = torch.from_numpy(ulvz_u_fluid).float().to(device)\n",
    "\n",
    "# 旋转到XYZ\n",
    "ulvz_u_solid = torch.einsum(\"tpij, Tjtpd -> Titpd\", rotations, ulvz_u_solid)"
   ],
   "id": "a7099626e9036520",
   "outputs": [],
   "execution_count": 12
  },
  {
   "metadata": {},
   "cell_type": "markdown",
   "source": [
    "---\n",
    "\n",
    "# 以上部分是所有站台公用的。以下是各个站台各自的convolve\n",
    "\n",
    "---\n",
    "\n",
    "# 读取站台的Green函数"
   ],
   "id": "ae9c91e2b627df6e"
  },
  {
   "metadata": {
    "ExecuteTime": {
     "end_time": "2025-07-07T15:41:56.786745Z",
     "start_time": "2025-07-07T15:41:56.436580Z"
    }
   },
   "cell_type": "code",
   "source": [
    "# load reciprocal\n",
    "station_name = \"US.ERP\"\n",
    "recip_u_solid = load_reciprocal(ulvz_u_solid, station_name, \"solid\")\n",
    "recip_u_fluid = load_reciprocal(ulvz_u_fluid, station_name, \"fluid\")\n",
    "\n",
    "# 旋转到XYZ\n",
    "recip_u_solid = torch.einsum(\"tpij, Tjtpd -> Titpd\", rotations, recip_u_solid)"
   ],
   "id": "9b3431873106c6c8",
   "outputs": [],
   "execution_count": 13
  },
  {
   "metadata": {
    "ExecuteTime": {
     "end_time": "2025-07-07T15:41:58.863670Z",
     "start_time": "2025-07-07T15:41:58.860773Z"
    }
   },
   "cell_type": "code",
   "source": [
    "print(ulvz_u_solid.shape)\n",
    "print(ulvz_u_fluid.shape)\n",
    "print(recip_u_solid.shape)\n",
    "print(recip_u_fluid.shape)"
   ],
   "id": "9f2031a910cd44fc",
   "outputs": [
    {
     "name": "stdout",
     "output_type": "stream",
     "text": [
      "torch.Size([250, 3, 26, 60, 16])\n",
      "torch.Size([250, 1, 26, 60, 6])\n",
      "torch.Size([2003, 3, 26, 60, 16])\n",
      "torch.Size([2003, 1, 26, 60, 6])\n"
     ]
    }
   ],
   "execution_count": 14
  },
  {
   "metadata": {},
   "cell_type": "markdown",
   "source": "# 最终Convolve",
   "id": "e6b4ccbb98cf52bd"
  },
  {
   "metadata": {
    "ExecuteTime": {
     "end_time": "2025-07-07T15:42:02.759991Z",
     "start_time": "2025-07-07T15:42:00.697874Z"
    }
   },
   "cell_type": "code",
   "source": [
    "# 搜集位移\n",
    "ulvz_u_solid_elem = gather_nodes(ulvz_u_solid, solid_connectivity)\n",
    "ulvz_u_fluid_elem = gather_nodes(ulvz_u_fluid, fluid_connectivity)\n",
    "recip_u_solid_elem = gather_nodes(recip_u_solid, solid_connectivity)\n",
    "recip_u_fluid_elem = gather_nodes(recip_u_fluid, fluid_connectivity)\n",
    "\n",
    "# Convolve 并求和\n",
    "result = torch.zeros(len(ulvz_u_solid) + len(recip_u_solid) - 1).float().to(device)\n",
    "for elem, u_ulvz, u_recip in zip(solid_elements, ulvz_u_solid_elem, recip_u_solid_elem):\n",
    "    result += elem.compute_convolve(u_ulvz, u_recip)\n",
    "for elem, u_ulvz, u_recip in zip(fluid_elements, ulvz_u_fluid_elem, recip_u_fluid_elem):\n",
    "    result += elem.compute_convolve(u_ulvz, u_recip)"
   ],
   "id": "9cc696640dd2d37d",
   "outputs": [],
   "execution_count": 15
  },
  {
   "metadata": {},
   "cell_type": "markdown",
   "source": "# 对比结果",
   "id": "bfdabcfb54da547f"
  },
  {
   "metadata": {
    "ExecuteTime": {
     "end_time": "2025-07-07T15:42:06.318613Z",
     "start_time": "2025-07-07T15:42:06.298055Z"
    }
   },
   "cell_type": "code",
   "source": [
    "index = 348  # US.ERP\n",
    "ds_1d = xr.load_dataset(\"../simulations/outputs/test/04_solve_prem/output/stations/ARRAY/axisem3d_synthetics.nc.rank0\")\n",
    "wave_1d = ds_1d[\"data\"][:, 1, index]\n",
    "print(wave_1d.shape)\n",
    "\n",
    "ds_3d = xr.load_dataset(\"../simulations/outputs/test/12_solve_3d/output/stations/ARRAY/axisem3d_synthetics.nc.rank0\")\n",
    "wave_3d = ds_3d[\"data\"][:, 1, index]\n",
    "print(wave_3d.shape)"
   ],
   "id": "7882ca0e26f4358a",
   "outputs": [
    {
     "name": "stdout",
     "output_type": "stream",
     "text": [
      "(2052,)\n",
      "(1451,)\n"
     ]
    }
   ],
   "execution_count": 16
  },
  {
   "metadata": {
    "ExecuteTime": {
     "end_time": "2025-07-07T15:42:06.373408Z",
     "start_time": "2025-07-07T15:42:06.321512Z"
    }
   },
   "cell_type": "code",
   "source": [
    "plt.plot(ds_1d[\"time_points\"], wave_1d)\n",
    "plt.plot(ds_3d[\"time_points\"], wave_3d)"
   ],
   "id": "40ba65c9b7a3d891",
   "outputs": [
    {
     "data": {
      "text/plain": [
       "[<matplotlib.lines.Line2D at 0x1742431c0>]"
      ]
     },
     "execution_count": 17,
     "metadata": {},
     "output_type": "execute_result"
    },
    {
     "data": {
      "text/plain": [
       "<Figure size 640x480 with 1 Axes>"
      ],
      "image/png": "[encoded data removed]"
     },
     "metadata": {},
     "output_type": "display_data"
    }
   ],
   "execution_count": 17
  },
  {
   "metadata": {
    "ExecuteTime": {
     "end_time": "2025-07-07T15:42:50.570609Z",
     "start_time": "2025-07-07T15:42:50.509957Z"
    }
   },
   "cell_type": "code",
   "source": [
    "plt.plot(ds_3d[\"time_points\"], wave_3d)\n",
    "plt.plot(ds_3d[\"time_points\"], result.cpu().numpy()[:len(ds_3d[\"time_points\"])] / 1e20)"
   ],
   "id": "44bda1b152448256",
   "outputs": [
    {
     "data": {
      "text/plain": [
       "[<matplotlib.lines.Line2D at 0x174232ef0>]"
      ]
     },
     "execution_count": 21,
     "metadata": {},
     "output_type": "execute_result"
    },
    {
     "data": {
      "text/plain": [
       "<Figure size 640x480 with 1 Axes>"
      ],
      "image/png": "[encoded data removed]"
     },
     "metadata": {},
     "output_type": "display_data"
    }
   ],
   "execution_count": 21
  },
  {
   "metadata": {
    "ExecuteTime": {
     "end_time": "2025-07-07T15:42:09.830150Z",
     "start_time": "2025-07-07T15:42:09.828739Z"
    }
   },
   "cell_type": "code",
   "source": "",
   "id": "ddeab550acb11624",
   "outputs": [],
   "execution_count": null
  },
  {
   "metadata": {
    "ExecuteTime": {
     "end_time": "2025-07-07T15:42:11.517726Z",
     "start_time": "2025-07-07T15:42:11.516233Z"
    }
   },
   "cell_type": "code",
   "source": "",
   "id": "5d99365955bf06fb",
   "outputs": [],
   "execution_count": null
  }
 ],
 "metadata": {
  "kernelspec": {
   "display_name": "Python 3",
   "language": "python",
   "name": "python3"
  },
  "language_info": {
   "codemirror_mode": {
    "name": "ipython",
    "version": 2
   },
   "file_extension": ".py",
   "mimetype": "text/x-python",
   "name": "python",
   "nbconvert_exporter": "python",
   "pygments_lexer": "ipython2",
   "version": "2.7.6"
  }
 },
 "nbformat": 4,
 "nbformat_minor": 5
}
